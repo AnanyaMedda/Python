{
 "cells": [
  {
   "cell_type": "code",
   "execution_count": 1,
   "id": "d97840b1",
   "metadata": {},
   "outputs": [
    {
     "name": "stdout",
     "output_type": "stream",
     "text": [
      "Merged array: [1, 2, 3, 4, 5, 6, 7, 8]\n",
      "This is a zero-arguments constructor\n",
      "Value: 10\n",
      "Value1: 0, Value2: 0\n",
      "Value1: 10, Value2: 0\n",
      "Value1: 10, Value2: 20\n",
      "Letter Grade: E\n",
      "Commission: $500.00\n"
     ]
    }
   ],
   "source": [
    "# 1. Merge Two Sorted Arrays\n",
    "def merge_sorted_arrays(A, B):\n",
    "    merged_array = []\n",
    "    i = j = 0\n",
    "\n",
    "    while i < len(A) and j < len(B):\n",
    "        if A[i] < B[j]:\n",
    "            merged_array.append(A[i])\n",
    "            i += 1\n",
    "        else:\n",
    "            merged_array.append(B[j])\n",
    "            j += 1\n",
    "\n",
    "    while i < len(A):\n",
    "        merged_array.append(A[i])\n",
    "        i += 1\n",
    "\n",
    "    while j < len(B):\n",
    "        merged_array.append(B[j])\n",
    "        j += 1\n",
    "\n",
    "    return merged_array\n",
    "\n",
    "# Example usage for merging arrays\n",
    "A = [1, 3, 5, 7]\n",
    "B = [2, 4, 6, 8]\n",
    "C = merge_sorted_arrays(A, B)\n",
    "print(\"Merged array:\", C)\n",
    "# Output: Merged array: [1, 2, 3, 4, 5, 6, 7, 8]\n",
    "\n",
    "# 2. Zero-Arguments Constructor\n",
    "class ZeroArgumentsConstructor:\n",
    "    def __init__(self):\n",
    "        self.message = \"This is a zero-arguments constructor\"\n",
    "\n",
    "    def show_message(self):\n",
    "        print(self.message)\n",
    "\n",
    "# Example usage\n",
    "obj_zero_args = ZeroArgumentsConstructor()\n",
    "obj_zero_args.show_message()\n",
    "# Output: This is a zero-arguments constructor\n",
    "\n",
    "# 3. Parameterized Constructor\n",
    "class ParameterizedConstructor:\n",
    "    def __init__(self, value):\n",
    "        self.value = value\n",
    "\n",
    "    def show_value(self):\n",
    "        print(f\"Value: {self.value}\")\n",
    "\n",
    "# Example usage\n",
    "obj_param = ParameterizedConstructor(10)\n",
    "obj_param.show_value()\n",
    "# Output: Value: 10\n",
    "\n",
    "# 4. Constructor Overloading\n",
    "class ConstructorOverloading:\n",
    "    def __init__(self, value1=0, value2=0):\n",
    "        self.value1 = value1\n",
    "        self.value2 = value2\n",
    "\n",
    "    def show_values(self):\n",
    "        print(f\"Value1: {self.value1}, Value2: {self.value2}\")\n",
    "\n",
    "# Example usage\n",
    "obj1 = ConstructorOverloading()\n",
    "obj1.show_values()\n",
    "# Output: Value1: 0, Value2: 0\n",
    "\n",
    "obj2 = ConstructorOverloading(10)\n",
    "obj2.show_values()\n",
    "# Output: Value1: 10, Value2: 0\n",
    "\n",
    "obj3 = ConstructorOverloading(10, 20)\n",
    "obj3.show_values()\n",
    "# Output: Value1: 10, Value2: 20\n",
    "\n",
    "# 5. Grader Class\n",
    "class Grader:\n",
    "    def __init__(self, score):\n",
    "        if score < 0 or score > 100:\n",
    "            raise ValueError(\"Score must be between 0 and 100\")\n",
    "        self.score = score\n",
    "\n",
    "    def letter_grade(self):\n",
    "        if 90 <= self.score <= 100:\n",
    "            return 'O'\n",
    "        elif 80 <= self.score < 90:\n",
    "            return 'E'\n",
    "        elif 70 <= self.score < 80:\n",
    "            return 'A'\n",
    "        elif 60 <= self.score < 70:\n",
    "            return 'B'\n",
    "        elif 50 <= self.score < 60:\n",
    "            return 'C'\n",
    "        else:\n",
    "            return 'F'\n",
    "\n",
    "# Example usage\n",
    "score = 85  # Example input\n",
    "try:\n",
    "    grader = Grader(score)\n",
    "    print(\"Letter Grade:\", grader.letter_grade())\n",
    "    # Output: Letter Grade: E\n",
    "except ValueError as e:\n",
    "    print(e)\n",
    "\n",
    "# 6. Commission Class\n",
    "class Commission:\n",
    "    def __init__(self, sales):\n",
    "        if sales < 0:\n",
    "            raise ValueError(\"Sales cannot be negative\")\n",
    "        self.sales = sales\n",
    "\n",
    "    def commission(self):\n",
    "        return self.sales * 0.10  # Assume a fixed commission rate of 10%\n",
    "\n",
    "# Example usage\n",
    "sales = 5000  # Example input\n",
    "try:\n",
    "    commission_calculator = Commission(sales)\n",
    "    print(f\"Commission: ${commission_calculator.commission():.2f}\")\n",
    "    # Output: Commission: $500.00\n",
    "except ValueError as e:\n",
    "    print(\"Invalid Input\")\n"
   ]
  },
  {
   "cell_type": "code",
   "execution_count": 2,
   "id": "ff6e3c03",
   "metadata": {},
   "outputs": [
    {
     "name": "stdout",
     "output_type": "stream",
     "text": [
      "Animal makes a sound\n",
      "Dog barks\n"
     ]
    }
   ],
   "source": [
    "# Inheritance\n",
    "class Animal:\n",
    "    def speak(self):\n",
    "        return \"Animal makes a sound\"\n",
    "\n",
    "class Dog(Animal):\n",
    "    def speak(self):\n",
    "        return \"Dog barks\"\n",
    "\n",
    "# Example usage\n",
    "animal = Animal()\n",
    "dog = Dog()\n",
    "print(animal.speak())  # Output: Animal makes a sound\n",
    "print(dog.speak())     # Output: Dog barks\n"
   ]
  },
  {
   "cell_type": "code",
   "execution_count": 3,
   "id": "86fa06e7",
   "metadata": {},
   "outputs": [
    {
     "name": "stdout",
     "output_type": "stream",
     "text": [
      "3\n",
      "6\n"
     ]
    }
   ],
   "source": [
    "# Method Overloading\n",
    "class MathOperations:\n",
    "    def add(self, a, b, c=0):\n",
    "        return a + b + c\n",
    "\n",
    "# Example usage\n",
    "math_op = MathOperations()\n",
    "print(math_op.add(1, 2))      # Output: 3\n",
    "print(math_op.add(1, 2, 3))   # Output: 6\n"
   ]
  },
  {
   "cell_type": "code",
   "execution_count": 4,
   "id": "986d731d",
   "metadata": {},
   "outputs": [
    {
     "name": "stdout",
     "output_type": "stream",
     "text": [
      "Parent method\n",
      "Child method\n"
     ]
    }
   ],
   "source": [
    "# Method Overriding\n",
    "class Parent:\n",
    "    def show(self):\n",
    "        return \"Parent method\"\n",
    "\n",
    "class Child(Parent):\n",
    "    def show(self):\n",
    "        return \"Child method\"\n",
    "\n",
    "# Example usage\n",
    "parent = Parent()\n",
    "child = Child()\n",
    "print(parent.show())  # Output: Parent method\n",
    "print(child.show())   # Output: Child method\n"
   ]
  },
  {
   "cell_type": "code",
   "execution_count": 5,
   "id": "8dd25cc3",
   "metadata": {},
   "outputs": [
    {
     "name": "stdout",
     "output_type": "stream",
     "text": [
      "Base method\n",
      "Derived method\n"
     ]
    }
   ],
   "source": [
    "# Method Hiding\n",
    "class Base:\n",
    "    def method(self):\n",
    "        return \"Base method\"\n",
    "\n",
    "class Derived(Base):\n",
    "    def method(self):\n",
    "        return \"Derived method\"\n",
    "\n",
    "# Example usage\n",
    "base = Base()\n",
    "derived = Derived()\n",
    "print(base.method())    # Output: Base method\n",
    "print(derived.method()) # Output: Derived method\n"
   ]
  },
  {
   "cell_type": "code",
   "execution_count": null,
   "id": "4d1fb707",
   "metadata": {},
   "outputs": [],
   "source": []
  }
 ],
 "metadata": {
  "kernelspec": {
   "display_name": "Python 3 (ipykernel)",
   "language": "python",
   "name": "python3"
  },
  "language_info": {
   "codemirror_mode": {
    "name": "ipython",
    "version": 3
   },
   "file_extension": ".py",
   "mimetype": "text/x-python",
   "name": "python",
   "nbconvert_exporter": "python",
   "pygments_lexer": "ipython3",
   "version": "3.9.13"
  }
 },
 "nbformat": 4,
 "nbformat_minor": 5
}
